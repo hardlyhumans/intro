{
  "cells": [
    {
      "cell_type": "markdown",
      "metadata": {
        "id": "BOpYcoMQmMKX"
      },
      "source": [
        "1. Write a function that returns the n th row of a Pascal's triangle.\n",
        "\n",
        "Most people are introduced to Pascal’s triangle through an arbitrary-seeming set of rules. Begin with 1 on the top and with 1’s running down the two sides of a triangle. Each new number lies between two numbers and below them, and its value is the sum of the two numbers above it.\n",
        "\n",
        "For example, Consider the pascal triangle\n",
        "\n",
        "        1\n",
        "      1   1\n",
        "    1   2   1\n",
        "\n",
        "If n = 3 , output should be [1,2,1]\n"
      ]
    },
    {
      "cell_type": "code",
      "execution_count": null,
      "metadata": {
        "id": "ONOLRzo1IOBi"
      },
      "outputs": [],
      "source": [
        "#YOUR CODE HERE"
      ]
    },
    {
      "cell_type": "markdown",
      "metadata": {
        "id": "awebBHFOudzE"
      },
      "source": [
        "2. Get the GCD of two numbers using recursive functions "
      ]
    },
    {
      "cell_type": "code",
      "execution_count": null,
      "metadata": {
        "id": "NQJpmEMvEQb3"
      },
      "outputs": [],
      "source": [
        "#YOUR CODE HERE"
      ]
    },
    {
      "cell_type": "markdown",
      "metadata": {
        "id": "wYEftasnEUiY"
      },
      "source": [
        "3. Write a code to print the below pattern"
      ]
    },
    {
      "cell_type": "code",
      "execution_count": null,
      "metadata": {
        "id": "61Eb9_3oDlqn"
      },
      "outputs": [],
      "source": [
        " ***   ***\n",
        "***** *****\n",
        "***********\n",
        " *********\n",
        "  *******\n",
        "   *****\n",
        "    ***\n",
        "     *"
      ]
    },
    {
      "cell_type": "code",
      "execution_count": null,
      "metadata": {
        "id": "thLjRWpeEW-n"
      },
      "outputs": [],
      "source": [
        "#YOUR CODE HERE"
      ]
    },
    {
      "cell_type": "markdown",
      "metadata": {
        "id": "aWkGrIOqIfHY"
      },
      "source": [
        "4. Given an array nums of positive integers. Your task is to select some subset of nums, multiply each element by an integer and add all these numbers. The array is said to be good if you can obtain a sum of 1 from the array by any possible subset and multiplicand.\n",
        "\n",
        " Return True if the array is good otherwise return False."
      ]
    },
    {
      "cell_type": "code",
      "execution_count": null,
      "metadata": {
        "id": "O_ZKzZ8JIjnV"
      },
      "outputs": [],
      "source": [
        "#YOUR CODE HERE\n"
      ]
    },
    {
      "cell_type": "markdown",
      "metadata": {
        "id": "MtWS9HWTPSdl"
      },
      "source": [
        "5. Quiz game\n",
        "\n",
        "Create a class named flashcard.\n",
        "Initialize a dictionary with different fruits using __init__() method.\n",
        "\n",
        "Now define a member function quiz() which randomly chooses a fruit from dictionary using random.choice().\n",
        "\n",
        "\n",
        "Now ask the user to answer the color of the randomly chosen fruit.\n",
        "If correct print correct else print wrong.\n",
        "\n",
        "Also ask the user if he wants to continue the game or quit in every trial.\n",
        "\n",
        "Hint : import random (for random.choice)"
      ]
    },
    {
      "cell_type": "code",
      "execution_count": null,
      "metadata": {
        "id": "um5KnhUfPmno"
      },
      "outputs": [],
      "source": [
        "#Your Code here"
      ]
    },
    {
      "cell_type": "markdown",
      "metadata": {
        "id": "tuJw7y5RTobP"
      },
      "source": [
        "6. For a given a matrix of dimensions nxn find the determinant of the matrix \n",
        "\n",
        "\n",
        "using recurive function."
      ]
    },
    {
      "cell_type": "code",
      "execution_count": null,
      "metadata": {
        "id": "Fm9PoXFZTvsu"
      },
      "outputs": [],
      "source": [
        "#YOUR CODE HERE"
      ]
    },
    {
      "cell_type": "markdown",
      "metadata": {
        "id": "LqCxmok2Nvjf"
      },
      "source": [
        "7. You have a stripe of checkered paper of length n\n",
        ". Each cell is either white or black.\n",
        "\n",
        "What is the minimum number of cells that must be recolored from white to black in order to have a segment of k\n",
        " consecutive black cells on the stripe?\n",
        "\n",
        "If the input data is such that a segment of k\n",
        " consecutive black cells already exists, then print 0.\n",
        "\n",
        "(It's okay even if you are unable to write a code for this question. Just think of the logic and how will you proceed to find a solution to it. You can discuss your logic with us during the next session.) \n"
      ]
    },
    {
      "cell_type": "code",
      "execution_count": null,
      "metadata": {
        "id": "VmIAf24APLap"
      },
      "outputs": [],
      "source": []
    }
  ],
  "metadata": {
    "colab": {
      "provenance": []
    },
    "kernelspec": {
      "display_name": "Python 3",
      "language": "python",
      "name": "python3"
    },
    "language_info": {
      "name": "python",
      "version": "3.11.1"
    },
    "vscode": {
      "interpreter": {
        "hash": "61d34c6ef87bbf276e57ec0ec4fa4580aff1b56f4f2c4acdf6bda212484be540"
      }
    }
  },
  "nbformat": 4,
  "nbformat_minor": 0
}
