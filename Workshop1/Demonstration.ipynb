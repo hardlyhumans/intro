{
 "cells": [
  {
   "cell_type": "markdown",
   "metadata": {
    "id": "l6hC1Sx6Z0bK"
   },
   "source": [
    "#Intro\n",
    "\n"
   ]
  },
  {
   "cell_type": "code",
   "execution_count": 3,
   "metadata": {
    "colab": {
     "base_uri": "https://localhost:8080/"
    },
    "id": "lydMy-nMZyGP",
    "outputId": "ef6336f6-f9fc-456b-841f-f6ae4a84bbab"
   },
   "outputs": [
    {
     "name": "stdout",
     "output_type": "stream",
     "text": [
      "['apple', 'Banana', 'cherry', 'mango']\n",
      "['apple', 'cherry', 'mango']\n",
      "['apple', 'Strawberry', 'mango']\n",
      "Strawberry\n"
     ]
    }
   ],
   "source": [
    "thatlist=[\"apple\",\"Banana\",\"cherry\"]\n",
    "thatlist.append(\"mango\")\n",
    "#Append inserts elements at the end of the current list\n",
    "print(thatlist)\n",
    "thatlist.remove(\"Banana\")\n",
    "print(thatlist)\n",
    "thatlist[1]=\"Strawberry\"\n",
    "print(thatlist)\n",
    "print(thatlist[1])"
   ]
  },
  {
   "cell_type": "code",
   "execution_count": 4,
   "metadata": {
    "colab": {
     "base_uri": "https://localhost:8080/",
     "height": 235
    },
    "id": "C2Yk9QaQabW8",
    "outputId": "9e74bcf7-43c7-4d4b-8921-a2d9e021bd99"
   },
   "outputs": [
    {
     "name": "stdout",
     "output_type": "stream",
     "text": [
      "apple\n"
     ]
    },
    {
     "ename": "TypeError",
     "evalue": "'tuple' object does not support item assignment",
     "output_type": "error",
     "traceback": [
      "\u001b[1;31m---------------------------------------------------------------------------\u001b[0m",
      "\u001b[1;31mTypeError\u001b[0m                                 Traceback (most recent call last)",
      "\u001b[1;32m~\\AppData\\Local\\Temp\\ipykernel_33996\\834889466.py\u001b[0m in \u001b[0;36m<module>\u001b[1;34m\u001b[0m\n\u001b[0;32m      3\u001b[0m \u001b[1;31m# tup.append(\"mango\")\u001b[0m\u001b[1;33m\u001b[0m\u001b[1;33m\u001b[0m\u001b[0m\n\u001b[0;32m      4\u001b[0m \u001b[1;31m# tup.pop()\u001b[0m\u001b[1;33m\u001b[0m\u001b[1;33m\u001b[0m\u001b[0m\n\u001b[1;32m----> 5\u001b[1;33m \u001b[0mtup\u001b[0m\u001b[1;33m[\u001b[0m\u001b[1;36m0\u001b[0m\u001b[1;33m]\u001b[0m\u001b[1;33m=\u001b[0m\u001b[1;34m\"Strawberry\"\u001b[0m\u001b[1;33m\u001b[0m\u001b[1;33m\u001b[0m\u001b[0m\n\u001b[0m\u001b[0;32m      6\u001b[0m \u001b[0mprint\u001b[0m\u001b[1;33m(\u001b[0m\u001b[0mtup\u001b[0m\u001b[1;33m[\u001b[0m\u001b[1;36m0\u001b[0m\u001b[1;33m]\u001b[0m\u001b[1;33m)\u001b[0m\u001b[1;33m\u001b[0m\u001b[1;33m\u001b[0m\u001b[0m\n",
      "\u001b[1;31mTypeError\u001b[0m: 'tuple' object does not support item assignment"
     ]
    }
   ],
   "source": [
    "tup=(\"apple\",\"Banana\",\"cherry\")\n",
    "print(tup[0])\n",
    "# tup.append(\"mango\")\n",
    "# tup.pop()\n",
    "tup[0]=\"Strawberry\"\n",
    "print(tup[0])\n"
   ]
  },
  {
   "cell_type": "code",
   "execution_count": 5,
   "metadata": {
    "colab": {
     "base_uri": "https://localhost:8080/"
    },
    "id": "tTPl_2h0a-Q6",
    "outputId": "33a0dace-9989-4432-a0a6-194967001066"
   },
   "outputs": [
    {
     "name": "stdout",
     "output_type": "stream",
     "text": [
      "('Strawberry', 'Banana', 'cherry')\n"
     ]
    }
   ],
   "source": [
    "#We can mutate the tuples by converting it to a list and back to tuple\n",
    "tup1=list(tup)\n",
    "tup1[0]=\"Strawberry\"\n",
    "tup=tuple(tup1)\n",
    "print(tup)"
   ]
  },
  {
   "cell_type": "code",
   "execution_count": 6,
   "metadata": {
    "colab": {
     "base_uri": "https://localhost:8080/"
    },
    "id": "PmSZg_I3bXAg",
    "outputId": "66b06411-1a09-494a-ea54-da412750790e"
   },
   "outputs": [
    {
     "name": "stdout",
     "output_type": "stream",
     "text": [
      "{1, 123.12, 'apple', 'orange'}\n",
      "{1, 123.12, 'apple', 'orange'}\n"
     ]
    }
   ],
   "source": [
    "set1={1,\"apple\",123.12}\n",
    "# print(set1[0])\n",
    "set1.add(\"orange\")\n",
    "print(set1)\n",
    "set1.add(1)\n",
    "print(set1)"
   ]
  },
  {
   "cell_type": "code",
   "execution_count": 7,
   "metadata": {
    "colab": {
     "base_uri": "https://localhost:8080/"
    },
    "id": "Y0IQRNjHxrVK",
    "outputId": "e9da5300-d4ce-4c70-89d5-71be1784f1fb"
   },
   "outputs": [
    {
     "name": "stdout",
     "output_type": "stream",
     "text": [
      "Dharwad\n",
      "dict_keys(['City', 'temp', 'cities', 25])\n",
      "dict_values(['Dharwad', 25, ['Hyderabad', 'Bengaluru', 'Mumbai'], 'temp'])\n",
      "{'City': 'Dharwad', 'temp': 30, 'cities': ['Hyderabad', 'Bengaluru', 'Mumbai'], 25: 'temp'}\n"
     ]
    }
   ],
   "source": [
    "diction={\"City\":\"Dharwad\",\"temp\":25,\"cities\":[\"Hyderabad\",\"Bengaluru\",\"Mumbai\"],25:\"temp\"}\n",
    "print(diction[\"City\"])\n",
    "print(diction.keys())\n",
    "print(diction.values())\n",
    "# diction[\"temp\"]=30\n",
    "diction.update({\"temp\":30})\n",
    "print(diction)"
   ]
  },
  {
   "cell_type": "markdown",
   "metadata": {
    "id": "3ehP_sznKgwB"
   },
   "source": [
    "#Initiating Lists"
   ]
  },
  {
   "cell_type": "code",
   "execution_count": null,
   "metadata": {
    "colab": {
     "base_uri": "https://localhost:8080/"
    },
    "id": "TS2NopNUHyuY",
    "outputId": "de5f532d-0458-491a-b9b5-1252fa57bea0"
   },
   "outputs": [],
   "source": [
    "fruits = [\"apple\", \"banana\", \"cherry\"]\n",
    "print(fruits)"
   ]
  },
  {
   "cell_type": "code",
   "execution_count": null,
   "metadata": {
    "colab": {
     "base_uri": "https://localhost:8080/"
    },
    "id": "cruodDwBKoRO",
    "outputId": "6cd4f8be-0a4b-47ac-a223-24921e3b06ad"
   },
   "outputs": [],
   "source": [
    "#Lists can contain duplicate elements\n",
    "fruits=[\"apple\", \"banana\", \"cherry\", \"apple\", \"cherry\"]\n",
    "print(fruits)"
   ]
  },
  {
   "cell_type": "code",
   "execution_count": null,
   "metadata": {
    "colab": {
     "base_uri": "https://localhost:8080/"
    },
    "id": "atzsviw9K5vx",
    "outputId": "d5363a39-5fee-4ea8-bfc8-10103f81fa65"
   },
   "outputs": [],
   "source": [
    "#Unlike in C/C++ in python a list can have any data type and can contain a combination of multiple data types\n",
    "list1=[\"abc\", 34, True, 40, \"male\"]\n",
    "print(type(list1))\n",
    "#Type-<class-list>"
   ]
  },
  {
   "cell_type": "markdown",
   "metadata": {
    "id": "SO3-hwO3Lusx"
   },
   "source": [
    "##Accessing Elements In List"
   ]
  },
  {
   "cell_type": "code",
   "execution_count": null,
   "metadata": {
    "colab": {
     "base_uri": "https://localhost:8080/"
    },
    "id": "LFCuYOwDLcGz",
    "outputId": "c0a52e27-861f-4ea8-af6f-90c104303cbb"
   },
   "outputs": [],
   "source": [
    "thislist = [\"apple\", \"banana\", \"cherry\", \"orange\", \"kiwi\", \"melon\", \"mango\"]\n",
    "#Printing element at an index\n",
    "print(thislist[1])\n",
    "#Negative indexing\n",
    "print(thislist[-1])"
   ]
  },
  {
   "cell_type": "code",
   "execution_count": null,
   "metadata": {
    "colab": {
     "base_uri": "https://localhost:8080/"
    },
    "id": "gj8Xj1_OMS5j",
    "outputId": "6c5a820c-f973-439a-9680-07981cad1920"
   },
   "outputs": [],
   "source": [
    "#Elements between two indices\n",
    "print(thislist[2:5])#Index 5 not included in the range\n",
    "print(thislist[:5])#Indexing from the start of the list to 4th index\n",
    "print(thislist[2:]) #Indexing from 2 to end of the list\n",
    "print(thislist[-4:-1])#Indexing from 4th last element to last element(not included)"
   ]
  },
  {
   "cell_type": "markdown",
   "metadata": {
    "id": "UEBAqtfbPQlo"
   },
   "source": [
    "##Inserting Elements"
   ]
  },
  {
   "cell_type": "code",
   "execution_count": null,
   "metadata": {
    "colab": {
     "base_uri": "https://localhost:8080/"
    },
    "id": "F1Wo3hqONO-P",
    "outputId": "7a62b9a2-9024-4180-9108-953cbd86947d"
   },
   "outputs": [],
   "source": [
    "thatlist=[\"apple\",\"Banana\",\"cherry\"]\n",
    "thatlist.append(\"mango\")\n",
    "#Append inserts elements at the end of the current list\n",
    "print(thatlist)"
   ]
  },
  {
   "cell_type": "code",
   "execution_count": null,
   "metadata": {
    "colab": {
     "base_uri": "https://localhost:8080/"
    },
    "id": "3JJy4W1jP069",
    "outputId": "d19d0a2c-1322-418e-aa68-cfe22ac708c5"
   },
   "outputs": [],
   "source": [
    "thatlist=[\"apple\",\"Banana\",\"cherry\"]\n",
    "thatlist.insert(1,\"mango\")\n",
    "#Insert function places the element in the passed position\n",
    "print(thatlist)"
   ]
  },
  {
   "cell_type": "code",
   "execution_count": null,
   "metadata": {
    "colab": {
     "base_uri": "https://localhost:8080/"
    },
    "id": "jrB_wnFBQOjp",
    "outputId": "69506324-4fde-4cc9-f54f-c859074c346b"
   },
   "outputs": [],
   "source": [
    "#You can join two list or a list to any other iterable(set,dictionary,tuple..)\n",
    "thistuple = (\"kiwi\", \"orange\")\n",
    "#Here only shown for tuple and list\n",
    "thatlist.extend(thistuple)\n",
    "print(thatlist)"
   ]
  },
  {
   "cell_type": "markdown",
   "metadata": {
    "id": "1rfD88S-QwAy"
   },
   "source": [
    "##Removing elements"
   ]
  },
  {
   "cell_type": "code",
   "execution_count": null,
   "metadata": {
    "colab": {
     "base_uri": "https://localhost:8080/"
    },
    "id": "QOu18ovtQsxx",
    "outputId": "8d5b909c-c878-4453-c774-2fa5ba312778"
   },
   "outputs": [],
   "source": [
    "thatlist=[\"apple\",\"Banana\",\"cherry\",\"kiwi\", \"orange\"]\n",
    "#Removes the element that is passed\n",
    "thatlist.remove(\"Banana\")\n",
    "print(thatlist)"
   ]
  },
  {
   "cell_type": "code",
   "execution_count": null,
   "metadata": {
    "colab": {
     "base_uri": "https://localhost:8080/"
    },
    "id": "xAYTDDJvRLPD",
    "outputId": "31d7212d-eb92-447f-ccb0-a60d731298c0"
   },
   "outputs": [],
   "source": [
    "#Pop removes element from the passed index, if no value is passed the last element will be removed by default\n",
    "thatlist.pop(2)\n",
    "print(thatlist)\n",
    "thatlist.pop()\n",
    "print(thatlist)"
   ]
  },
  {
   "cell_type": "code",
   "execution_count": null,
   "metadata": {
    "colab": {
     "base_uri": "https://localhost:8080/",
     "height": 218
    },
    "id": "36fzPUimRxpY",
    "outputId": "217945d7-8068-471e-dd18-3131eb6b10a9"
   },
   "outputs": [],
   "source": [
    "thatlist=[\"apple\",\"Banana\",\"cherry\",\"kiwi\", \"orange\"]\n",
    "del thatlist[0] #removes passed index\n",
    "print(thatlist)\n",
    "del thatlist #Deletes the list entirely\n",
    "print(thatlist)"
   ]
  },
  {
   "cell_type": "code",
   "execution_count": null,
   "metadata": {
    "colab": {
     "base_uri": "https://localhost:8080/"
    },
    "id": "TdR0pQojST0l",
    "outputId": "50886ee3-8fb1-42e4-aa51-27887e7c2e8b"
   },
   "outputs": [],
   "source": [
    "thatlist=[\"apple\",\"Banana\",\"cherry\",\"kiwi\", \"orange\"]\n",
    "thatlist.clear()#Clear just deletes every element leaving the list empty(list not deleted)\n",
    "print(thatlist)"
   ]
  },
  {
   "cell_type": "markdown",
   "metadata": {
    "id": "2XdR2W5MTNKG"
   },
   "source": [
    "##Sorting of List"
   ]
  },
  {
   "cell_type": "code",
   "execution_count": null,
   "metadata": {
    "colab": {
     "base_uri": "https://localhost:8080/"
    },
    "id": "pKzASaXASaj6",
    "outputId": "022b5d8d-deb7-44ed-86bc-b08453f29747"
   },
   "outputs": [],
   "source": [
    "thatlist=[\"apple\",\"banana\",\"cherry\",\"kiwi\", \"orange\"]\n",
    "thatlist.sort()#ALphabetically sorted Ascending order\n",
    "thatlist"
   ]
  },
  {
   "cell_type": "code",
   "execution_count": null,
   "metadata": {
    "colab": {
     "base_uri": "https://localhost:8080/"
    },
    "id": "VK3L_rFZTT_y",
    "outputId": "66e4f7e6-369a-4327-b121-84170f310eff"
   },
   "outputs": [],
   "source": [
    "thislist=[100, 50, 65, 82, 23]\n",
    "thislist.sort()#Numerically sort Ascending\n",
    "thislist"
   ]
  },
  {
   "cell_type": "code",
   "execution_count": null,
   "metadata": {
    "colab": {
     "base_uri": "https://localhost:8080/"
    },
    "id": "6-VRwuuvTj2g",
    "outputId": "a963c873-330b-46bd-9784-1ea48833e5f3"
   },
   "outputs": [],
   "source": [
    "thislist.sort(reverse=True)#Sort descending order\n",
    "thislist"
   ]
  },
  {
   "cell_type": "code",
   "execution_count": null,
   "metadata": {
    "colab": {
     "base_uri": "https://localhost:8080/"
    },
    "id": "nU5T9gAIT0V0",
    "outputId": "4fa30857-24b5-489c-916b-775c576f8aa3"
   },
   "outputs": [],
   "source": [
    "#You can also customize your own function by using the keyword argument key = function\n",
    "def myfunc(n):\n",
    "  return abs(n - 50)\n",
    "#Sorting the list based on how close the number is to 50\n",
    "thislist = [100, 50, 65, 82, 23]\n",
    "thislist.sort(key = myfunc)\n",
    "print(thislist)"
   ]
  },
  {
   "cell_type": "code",
   "execution_count": null,
   "metadata": {
    "colab": {
     "base_uri": "https://localhost:8080/"
    },
    "id": "38Ad9AiUUFiv",
    "outputId": "13ce01c9-f633-4b30-ed9b-be21c72440b3"
   },
   "outputs": [],
   "source": [
    "mylist=thislist.copy()#Original list doesn't change when Copied list is changed\n",
    "mylist.pop()\n",
    "print(thislist)\n",
    "print(mylist)"
   ]
  },
  {
   "cell_type": "markdown",
   "metadata": {
    "id": "Vb8D4IoLXA3W"
   },
   "source": [
    "#Tuples"
   ]
  },
  {
   "cell_type": "markdown",
   "metadata": {
    "id": "L-0psX6fXDcG"
   },
   "source": [
    "##Unpacking tuples"
   ]
  },
  {
   "cell_type": "code",
   "execution_count": null,
   "metadata": {
    "colab": {
     "base_uri": "https://localhost:8080/"
    },
    "id": "aMPB31V-VpV3",
    "outputId": "2cfeb61b-5944-4ff4-b944-5367ba0c50a8"
   },
   "outputs": [],
   "source": [
    "fruits=(\"apple\",\"banana\",\"cherry\")\n",
    "(green, yellow, red) = fruits\n",
    "\n",
    "print(green)\n",
    "print(yellow)\n",
    "print(red)"
   ]
  },
  {
   "cell_type": "code",
   "execution_count": null,
   "metadata": {
    "colab": {
     "base_uri": "https://localhost:8080/"
    },
    "id": "-NBOj5itXaQD",
    "outputId": "a3327533-8198-4be1-d293-8ae22fede035"
   },
   "outputs": [],
   "source": [
    "fruits = (\"apple\", \"banana\", \"cherry\", \"strawberry\", \"raspberry\")\n",
    "(green, yellow, *red) = fruits\n",
    "print(green)\n",
    "print(yellow)\n",
    "print(red)"
   ]
  },
  {
   "cell_type": "markdown",
   "metadata": {
    "id": "H-kZOATeIsO5"
   },
   "source": [
    "# Functions"
   ]
  },
  {
   "cell_type": "code",
   "execution_count": 8,
   "metadata": {
    "colab": {
     "base_uri": "https://localhost:8080/"
    },
    "id": "EbU8MwqAL0sZ",
    "outputId": "a3407f88-4a2e-48a2-f900-da1de48610b3"
   },
   "outputs": [
    {
     "name": "stdout",
     "output_type": "stream",
     "text": [
      "Square of 1 = 1\n",
      "Square of 2 = 4\n",
      "Square of 3 = 9\n"
     ]
    }
   ],
   "source": [
    "# function definition\n",
    "def get_square(num):\n",
    "    return num * num\n",
    "\n",
    "for i in [1,2,3]:\n",
    "    # function call\n",
    "    result = get_square(i)\n",
    "    print('Square of',i, '=',result)"
   ]
  },
  {
   "cell_type": "code",
   "execution_count": 9,
   "metadata": {
    "id": "QTwsfmJBMcAs"
   },
   "outputs": [],
   "source": [
    "# pass a list as argument\n",
    "def students(names):\n",
    "    print(\"Names of students :\")\n",
    "    for i in names:\n",
    "        print(i)"
   ]
  },
  {
   "cell_type": "code",
   "execution_count": 10,
   "metadata": {
    "colab": {
     "base_uri": "https://localhost:8080/"
    },
    "id": "p8LECSeXMtYp",
    "outputId": "2cc3910c-70b3-4571-a3c9-afe9a3ba8a97"
   },
   "outputs": [
    {
     "name": "stdout",
     "output_type": "stream",
     "text": [
      "Names of students :\n",
      "A\n",
      "B\n",
      "c\n",
      "D\n"
     ]
    }
   ],
   "source": [
    "freshers=[\"A\",\"B\",\"c\",\"D\"]\n",
    "students(freshers)"
   ]
  },
  {
   "cell_type": "code",
   "execution_count": 11,
   "metadata": {
    "colab": {
     "base_uri": "https://localhost:8080/"
    },
    "id": "29OsG8FL-1EZ",
    "outputId": "22031e59-4dd3-481e-f23f-d87e14d491b8"
   },
   "outputs": [
    {
     "name": "stdout",
     "output_type": "stream",
     "text": [
      "11\n"
     ]
    }
   ],
   "source": [
    "# Function inside function\n",
    "def increment(number):\n",
    "\n",
    "    def inner_increment():\n",
    "\n",
    "        return number + 1\n",
    "\n",
    "    return inner_increment()\n",
    "\n",
    "print(increment(10))\n",
    "# Can I access inner_increment() ?"
   ]
  },
  {
   "cell_type": "markdown",
   "metadata": {
    "id": "OJogRpSDYwwA"
   },
   "source": [
    "##Recursive Functions"
   ]
  },
  {
   "cell_type": "code",
   "execution_count": 12,
   "metadata": {
    "colab": {
     "base_uri": "https://localhost:8080/"
    },
    "id": "n6minR3eJWLL",
    "outputId": "4af4ed8f-4959-4451-e6d3-b5d95dee4001"
   },
   "outputs": [
    {
     "name": "stdout",
     "output_type": "stream",
     "text": [
      "120\n"
     ]
    }
   ],
   "source": [
    "# The function calls itself with changing parameters and having a base case to stop the recurence \n",
    "def factorial(n):\n",
    "    if n==0:#base case\n",
    "        return 1\n",
    "    else:#recursive case\n",
    "        return n*factorial(n-1)\n",
    "\n",
    "print(factorial(5))"
   ]
  },
  {
   "cell_type": "code",
   "execution_count": null,
   "metadata": {
    "colab": {
     "base_uri": "https://localhost:8080/"
    },
    "id": "TYTPpqv8LOwB",
    "outputId": "f6e75559-f39c-4a1e-fb1c-c4daa1966813"
   },
   "outputs": [],
   "source": [
    "# Lambda expression\n",
    "\n",
    "\n",
    "x =  lambda a , b  :  a * b\n",
    "print( x (5,6) )"
   ]
  },
  {
   "cell_type": "code",
   "execution_count": null,
   "metadata": {
    "colab": {
     "base_uri": "https://localhost:8080/"
    },
    "id": "n-qcFVRyLfyx",
    "outputId": "9d63f422-1cda-457b-a17d-3ed7bd690616"
   },
   "outputs": [],
   "source": [
    "# calculate squares using def\n",
    "def squares_def(x):\n",
    "    return x*x\n",
    "print('Using def: ', squares_def(5))\n",
    "\n",
    "# calculate squares using lambda\n",
    "squares = lambda x: x*x\n",
    "print('Using lambda: ', squares(5))"
   ]
  },
  {
   "cell_type": "code",
   "execution_count": null,
   "metadata": {
    "colab": {
     "base_uri": "https://localhost:8080/"
    },
    "id": "HAdDGbVEMqiF",
    "outputId": "6074859c-a134-491d-e563-0493f624bf46"
   },
   "outputs": [],
   "source": [
    "# Lambda functions can be Immediately Invoked which is not possible with def \n",
    "(lambda x,y : x*y)(5,7)\n",
    "\n",
    "# Applications : In Data Exploration and analysis often used with filter , map functions etc\n"
   ]
  },
  {
   "cell_type": "markdown",
   "metadata": {
    "id": "llsn7diqcAvb"
   },
   "source": [
    "#Classes"
   ]
  },
  {
   "cell_type": "code",
   "execution_count": 16,
   "metadata": {
    "id": "K5QMF7ppC23H"
   },
   "outputs": [],
   "source": [
    "# define a class\n",
    "class Car:\n",
    "    \n",
    "    def __init__(self,name,color,price):\n",
    "        # initial assignment of member data\n",
    "        self.name = name\n",
    "        self.color = color\n",
    "        self.price =price\n",
    "\n",
    "    # member function\n",
    "    def brake(self):\n",
    "        self.speed=0\n",
    "        print(self.name,\" Stopped\")\n",
    "        print(\"Speed : \",self.speed)\n",
    "\n",
    "    def __str__(self):\n",
    "        return f\"Car name : {self.name} \\nColor : {self.color} \\nPrice : {self.price}\""
   ]
  },
  {
   "cell_type": "code",
   "execution_count": 17,
   "metadata": {
    "id": "YLKvInWdDPqp"
   },
   "outputs": [],
   "source": [
    "#  create objects of class\n",
    "car1 = Car(\"ABC\",\"WHITE\",1000)  \n",
    "car2 = Car(\"XYZ\",\"BLACK\",2000)"
   ]
  },
  {
   "cell_type": "code",
   "execution_count": 18,
   "metadata": {
    "colab": {
     "base_uri": "https://localhost:8080/"
    },
    "id": "apwQf2OkDr0k",
    "outputId": "e57f9293-4ea1-4267-95e1-20d21d500603"
   },
   "outputs": [
    {
     "name": "stdout",
     "output_type": "stream",
     "text": [
      "Car name : ABC \n",
      "Color : WHITE \n",
      "Price : 1000\n"
     ]
    }
   ],
   "source": [
    "print(car1) "
   ]
  },
  {
   "cell_type": "code",
   "execution_count": null,
   "metadata": {
    "colab": {
     "base_uri": "https://localhost:8080/"
    },
    "id": "WJMs6QU9D9W6",
    "outputId": "ad2531ea-3a2a-4733-8c36-a0f2d45b0bf7"
   },
   "outputs": [],
   "source": [
    "# access the properties of object\n",
    "\n",
    "print(car1.name)\n",
    "# prints name of car1"
   ]
  },
  {
   "cell_type": "code",
   "execution_count": null,
   "metadata": {
    "colab": {
     "base_uri": "https://localhost:8080/"
    },
    "id": "cG3BProxEXw0",
    "outputId": "7e243e18-5876-4245-c609-95393d8aeb54"
   },
   "outputs": [],
   "source": [
    "# access the methods \n",
    "\n",
    "car2.brake()\n",
    "# calls the brake function of car2 object"
   ]
  },
  {
   "cell_type": "code",
   "execution_count": null,
   "metadata": {
    "id": "nZlRWufVFkvs"
   },
   "outputs": [],
   "source": [
    "# Modify values of attributes\n",
    "car1.color = \"GREEN\"\n",
    "print(car1.color)"
   ]
  },
  {
   "cell_type": "code",
   "execution_count": null,
   "metadata": {
    "id": "Y8pvJEyfFuB2"
   },
   "outputs": [],
   "source": [
    "# delete object's attribute\n",
    "del car1.color"
   ]
  },
  {
   "cell_type": "code",
   "execution_count": null,
   "metadata": {
    "id": "1lPBPECWF__E"
   },
   "outputs": [],
   "source": [
    "# delete object\n",
    "del car1"
   ]
  },
  {
   "cell_type": "code",
   "execution_count": null,
   "metadata": {},
   "outputs": [],
   "source": []
  }
 ],
 "metadata": {
  "colab": {
   "provenance": []
  },
  "kernelspec": {
   "display_name": "Python 3 (ipykernel)",
   "language": "python",
   "name": "python3"
  },
  "language_info": {
   "codemirror_mode": {
    "name": "ipython",
    "version": 3
   },
   "file_extension": ".py",
   "mimetype": "text/x-python",
   "name": "python",
   "nbconvert_exporter": "python",
   "pygments_lexer": "ipython3",
   "version": "3.9.13"
  }
 },
 "nbformat": 4,
 "nbformat_minor": 1
}
